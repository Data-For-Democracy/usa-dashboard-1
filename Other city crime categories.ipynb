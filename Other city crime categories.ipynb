{
 "cells": [
  {
   "cell_type": "code",
   "execution_count": null,
   "metadata": {
    "collapsed": true
   },
   "outputs": [],
   "source": [
    "UCR\n",
    "2005.0,\"Aguadilla-Isabela-San Sebastian, Puerto Rico M.S.A.\",aggravated_assault,93.0\n",
    "2005.0,\"Aguadilla-Isabela-San Sebastian, Puerto Rico M.S.A.\",burglary,817.0\n",
    "2005.0,\"Aguadilla-Isabela-San Sebastian, Puerto Rico M.S.A.\",forcible_rape,1.0\n",
    "2005.0,\"Aguadilla-Isabela-San Sebastian, Puerto Rico M.S.A.\",larceny_theft,953.0\n",
    "2005.0,\"Aguadilla-Isabela-San Sebastian, Puerto Rico M.S.A.\",motor_vehicle_theft,147.0\n",
    "2005.0,\"Aguadilla-Isabela-San Sebastian, Puerto Rico M.S.A.\",murder_and_nonnegligent_manslaughter,3.0\n",
    "2005.0,\"Aguadilla-Isabela-San Sebastian, Puerto Rico M.S.A.\",robbery,119.0\n",
    "\n",
    "Baltimore:\n",
    "ARSON\n",
    "AUTO THEFT\n",
    "BURGLARY\n",
    "COMMON ASSAULT\n",
    "HOMICIDE\n",
    "LARCENY\n",
    "LARCENY FROM AUTO\n",
    "ROBBERY - COMMERCIAL\n",
    "ROBBERY - RESIDENCE\n",
    "ROBBERY - STREET\n",
    "SHOOTING\n",
    "\n",
    "Chicago:\n",
    "    ARSON\t1\n",
    "2016\t1\t1\tASSAULT\t41\n",
    "2016\t1\t1\tBATTERY\t228\n",
    "2016\t1\t1\tBURGLARY\t13\n",
    "2016\t1\t1\tCRIM SEXUAL ASSAULT\t14\n",
    "2016\t1\t1\tCRIMINAL DAMAGE\t107\n",
    "2016\t1\t1\tCRIMINAL TRESPASS\t8\n",
    "2016\t1\t1\tDECEPTIVE PRACTICE\t93\n",
    "2016\t1\t1\tHOMICIDE\t3\n",
    "2016\t1\t1\tINTERFERENCE WITH PUBLIC OFFICER\t2\n",
    "2016\t1\t1\tKIDNAPPING\t1\n",
    "2016\t1\t1\tMOTOR VEHICLE THEFT\t28\n",
    "2016\t1\t1\tNARCOTICS\t20\n",
    "2016\t1\t1\tOBSCENITY\t2\n",
    "2016\t1\t1\tOFFENSE INVOLVING CHILDREN\t57\n",
    "2016\t1\t1\tOTHER OFFENSE\t64\n",
    "2016\t1\t1\tPUBLIC PEACE VIOLATION\t3\n",
    "2016\t1\t1\tROBBERY\t24\n",
    "2016\t1\t1\tSEX OFFENSE\t17\n",
    "2016\t1\t1\tTHEFT\t119\n",
    "2016\t1\t1\tWEAPONS VIOLATION\n",
    "\n",
    "DC:\n",
    "    ASSAULT W/DANGEROUS WEAPON\t7\n",
    "2016\t1\t1\tBURGLARY\t1\n",
    "2016\t1\t1\tMOTOR VEHICLE THEFT\t7\n",
    "2016\t1\t1\tROBBERY\t14\n",
    "2016\t1\t1\tSEX ABUSE\t6\n",
    "2016\t1\t1\tTHEFT F/AUTO\t33\n",
    "2016\t1\t1\tTHEFT/OTHER"
   ]
  }
 ],
 "metadata": {
  "kernelspec": {
   "display_name": "Python 3",
   "language": "python",
   "name": "python3"
  },
  "language_info": {
   "codemirror_mode": {
    "name": "ipython",
    "version": 3
   },
   "file_extension": ".py",
   "mimetype": "text/x-python",
   "name": "python",
   "nbconvert_exporter": "python",
   "pygments_lexer": "ipython3",
   "version": "3.6.0"
  }
 },
 "nbformat": 4,
 "nbformat_minor": 2
}
