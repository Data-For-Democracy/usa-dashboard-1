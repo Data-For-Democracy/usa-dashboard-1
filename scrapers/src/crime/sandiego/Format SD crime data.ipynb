{
 "cells": [
  {
   "cell_type": "markdown",
   "metadata": {},
   "source": [
    "This notebook accesses San Diego crime data downloaded with `download_latest_data.py` and organized by year with `separate_data_by_year.py`.\n",
    "\n",
    "It counts the number of each type of crime each day, as done for other cities in usa-dashboard."
   ]
  },
  {
   "cell_type": "code",
   "execution_count": 1,
   "metadata": {
    "collapsed": false
   },
   "outputs": [],
   "source": [
    "import pandas as pd\n",
    "import numpy as np"
   ]
  },
  {
   "cell_type": "markdown",
   "metadata": {},
   "source": [
    "# Dataframe"
   ]
  },
  {
   "cell_type": "code",
   "execution_count": 7,
   "metadata": {
    "collapsed": false,
    "scrolled": true
   },
   "outputs": [
    {
     "data": {
      "text/html": [
       "<div>\n",
       "<table border=\"1\" class=\"dataframe\">\n",
       "  <thead>\n",
       "    <tr style=\"text-align: right;\">\n",
       "      <th></th>\n",
       "      <th>Charge_Description_Orig</th>\n",
       "      <th>activityDate</th>\n",
       "      <th>BLOCK_ADDRESS</th>\n",
       "      <th>ZipCode</th>\n",
       "      <th>community</th>\n",
       "    </tr>\n",
       "    <tr>\n",
       "      <th>agency</th>\n",
       "      <th></th>\n",
       "      <th></th>\n",
       "      <th></th>\n",
       "      <th></th>\n",
       "      <th></th>\n",
       "    </tr>\n",
       "  </thead>\n",
       "  <tbody>\n",
       "    <tr>\n",
       "      <th>NATIONAL CITY</th>\n",
       "      <td>BURGLARY/FIRST DEGREE</td>\n",
       "      <td>10/14/2016 7:00:00</td>\n",
       "      <td>2600  BLOCK PLAZA BOULEVARD</td>\n",
       "      <td>91950.0</td>\n",
       "      <td>NATIONAL CITY</td>\n",
       "    </tr>\n",
       "    <tr>\n",
       "      <th>NATIONAL CITY</th>\n",
       "      <td>PETTY THEFT</td>\n",
       "      <td>11/11/2016 12:00:00</td>\n",
       "      <td>3000  BLOCK PLAZA BONITA ROAD</td>\n",
       "      <td>91950.0</td>\n",
       "      <td>NATIONAL CITY</td>\n",
       "    </tr>\n",
       "    <tr>\n",
       "      <th>NATIONAL CITY</th>\n",
       "      <td>BURGLARY/SECOND DEGREE</td>\n",
       "      <td>11/20/2016 19:00:00</td>\n",
       "      <td>500 E  BLOCK 02ND STREET</td>\n",
       "      <td>91950.0</td>\n",
       "      <td>NATIONAL CITY</td>\n",
       "    </tr>\n",
       "    <tr>\n",
       "      <th>NATIONAL CITY</th>\n",
       "      <td>PETTY THEFT</td>\n",
       "      <td>11/20/2016 12:00:00</td>\n",
       "      <td>1400 E  BLOCK 06TH STREET</td>\n",
       "      <td>91950.0</td>\n",
       "      <td>NATIONAL CITY</td>\n",
       "    </tr>\n",
       "    <tr>\n",
       "      <th>NATIONAL CITY</th>\n",
       "      <td>BURGLARY/FIRST DEGREE</td>\n",
       "      <td>11/2/2016 19:00:00</td>\n",
       "      <td>2600  BLOCK PLAZA BOULEVARD</td>\n",
       "      <td>91950.0</td>\n",
       "      <td>NATIONAL CITY</td>\n",
       "    </tr>\n",
       "  </tbody>\n",
       "</table>\n",
       "</div>"
      ],
      "text/plain": [
       "              Charge_Description_Orig         activityDate  \\\n",
       "agency                                                       \n",
       "NATIONAL CITY   BURGLARY/FIRST DEGREE   10/14/2016 7:00:00   \n",
       "NATIONAL CITY             PETTY THEFT  11/11/2016 12:00:00   \n",
       "NATIONAL CITY  BURGLARY/SECOND DEGREE  11/20/2016 19:00:00   \n",
       "NATIONAL CITY             PETTY THEFT  11/20/2016 12:00:00   \n",
       "NATIONAL CITY   BURGLARY/FIRST DEGREE   11/2/2016 19:00:00   \n",
       "\n",
       "                               BLOCK_ADDRESS  ZipCode      community  \n",
       "agency                                                                \n",
       "NATIONAL CITY    2600  BLOCK PLAZA BOULEVARD  91950.0  NATIONAL CITY  \n",
       "NATIONAL CITY  3000  BLOCK PLAZA BONITA ROAD  91950.0  NATIONAL CITY  \n",
       "NATIONAL CITY       500 E  BLOCK 02ND STREET  91950.0  NATIONAL CITY  \n",
       "NATIONAL CITY      1400 E  BLOCK 06TH STREET  91950.0  NATIONAL CITY  \n",
       "NATIONAL CITY    2600  BLOCK PLAZA BOULEVARD  91950.0  NATIONAL CITY  "
      ]
     },
     "execution_count": 7,
     "metadata": {},
     "output_type": "execute_result"
    }
   ],
   "source": [
    "df = pd.DataFrame.from_csv('2016.txt', encoding='cp1252')\n",
    "df.head()"
   ]
  },
  {
   "cell_type": "code",
   "execution_count": 10,
   "metadata": {
    "collapsed": false,
    "scrolled": true
   },
   "outputs": [],
   "source": [
    "# Extract information for each event: year, month, day, offense\n",
    "N_records = len(df)\n",
    "records_dict = {'year': [0]*N_records,\n",
    "                'month': [0]*N_records,\n",
    "                'day': [0]*N_records,\n",
    "                'offense': df['Charge_Description_Orig'].values}\n",
    "\n",
    "for i in range(N_records):\n",
    "    date_list = df['activityDate'][i].split('/')\n",
    "    records_dict['year'][i] = date_list[2].split(' ')[0]\n",
    "    records_dict['month'][i] = date_list[0]\n",
    "    records_dict['day'][i] = date_list[1]\n",
    "    \n",
    "# Organize data in dataframe\n",
    "df_records = pd.DataFrame.from_dict(records_dict)"
   ]
  },
  {
   "cell_type": "code",
   "execution_count": 13,
   "metadata": {
    "collapsed": false
   },
   "outputs": [],
   "source": [
    "unique_months = np.unique(df_records['month'].values)\n",
    "offenses = np.array(df_records['offense'].values,dtype=str)\n",
    "unique_offenses = np.unique(offenses)"
   ]
  },
  {
   "cell_type": "code",
   "execution_count": 15,
   "metadata": {
    "collapsed": false
   },
   "outputs": [
    {
     "ename": "SyntaxError",
     "evalue": "invalid syntax (<ipython-input-15-17fb62f7fd99>, line 12)",
     "output_type": "error",
     "traceback": [
      "\u001b[0;36m  File \u001b[0;32m\"<ipython-input-15-17fb62f7fd99>\"\u001b[0;36m, line \u001b[0;32m12\u001b[0m\n\u001b[0;31m    for o, offense in enumerate(unique_offenses)\u001b[0m\n\u001b[0m                                                ^\u001b[0m\n\u001b[0;31mSyntaxError\u001b[0m\u001b[0;31m:\u001b[0m invalid syntax\n"
     ]
    }
   ],
   "source": [
    "# Create the final crime dict for the 2016 data\n",
    "unique_months = np.unique(df_records_2016['month'])\n",
    "unique_offenses = np.unique(df_records_2016['offense'])\n",
    "\n",
    "# Loop through each month\n",
    "for m, month in enumerate(unique_months):\n",
    "    # Loop through each day\n",
    "    df_month = df_records_2016[df_records_2016['month']==month]\n",
    "    unique_days = np.unique(df_month['day'])\n",
    "    for d, day in enumerate(unique_days):\n",
    "        # Loop through each offense\n",
    "        for o, offense in enumerate(unique_offenses)"
   ]
  },
  {
   "cell_type": "code",
   "execution_count": 17,
   "metadata": {
    "collapsed": false,
    "scrolled": true
   },
   "outputs": [
    {
     "data": {
      "text/html": [
       "<div>\n",
       "<table border=\"1\" class=\"dataframe\">\n",
       "  <thead>\n",
       "    <tr style=\"text-align: right;\">\n",
       "      <th></th>\n",
       "      <th>day</th>\n",
       "      <th>month</th>\n",
       "      <th>offense</th>\n",
       "      <th>year</th>\n",
       "    </tr>\n",
       "  </thead>\n",
       "  <tbody>\n",
       "    <tr>\n",
       "      <th>0</th>\n",
       "      <td>14</td>\n",
       "      <td>10</td>\n",
       "      <td>BURGLARY/FIRST DEGREE</td>\n",
       "      <td>2016</td>\n",
       "    </tr>\n",
       "    <tr>\n",
       "      <th>1</th>\n",
       "      <td>11</td>\n",
       "      <td>11</td>\n",
       "      <td>PETTY THEFT</td>\n",
       "      <td>2016</td>\n",
       "    </tr>\n",
       "    <tr>\n",
       "      <th>2</th>\n",
       "      <td>20</td>\n",
       "      <td>11</td>\n",
       "      <td>BURGLARY/SECOND DEGREE</td>\n",
       "      <td>2016</td>\n",
       "    </tr>\n",
       "    <tr>\n",
       "      <th>3</th>\n",
       "      <td>20</td>\n",
       "      <td>11</td>\n",
       "      <td>PETTY THEFT</td>\n",
       "      <td>2016</td>\n",
       "    </tr>\n",
       "    <tr>\n",
       "      <th>4</th>\n",
       "      <td>2</td>\n",
       "      <td>11</td>\n",
       "      <td>BURGLARY/FIRST DEGREE</td>\n",
       "      <td>2016</td>\n",
       "    </tr>\n",
       "    <tr>\n",
       "      <th>5</th>\n",
       "      <td>10</td>\n",
       "      <td>11</td>\n",
       "      <td>BURGLARY/SECOND DEGREE</td>\n",
       "      <td>2016</td>\n",
       "    </tr>\n",
       "    <tr>\n",
       "      <th>6</th>\n",
       "      <td>9</td>\n",
       "      <td>10</td>\n",
       "      <td>TAKE VEHICLE W/O OWNER'S CONSENT/VEHICLE THEFT</td>\n",
       "      <td>2016</td>\n",
       "    </tr>\n",
       "    <tr>\n",
       "      <th>7</th>\n",
       "      <td>16</td>\n",
       "      <td>10</td>\n",
       "      <td>TAKE VEHICLE W/O OWNER'S CONSENT/VEHICLE THEFT</td>\n",
       "      <td>2016</td>\n",
       "    </tr>\n",
       "    <tr>\n",
       "      <th>8</th>\n",
       "      <td>19</td>\n",
       "      <td>10</td>\n",
       "      <td>ATTEMPTED MURDER/DEGREE UNSPECIFIED</td>\n",
       "      <td>2016</td>\n",
       "    </tr>\n",
       "    <tr>\n",
       "      <th>9</th>\n",
       "      <td>31</td>\n",
       "      <td>10</td>\n",
       "      <td>ROBBERY: SECOND DEGREE</td>\n",
       "      <td>2016</td>\n",
       "    </tr>\n",
       "    <tr>\n",
       "      <th>10</th>\n",
       "      <td>16</td>\n",
       "      <td>10</td>\n",
       "      <td>TAKE VEHICLE W/O OWNER'S CONSENT/VEHICLE THEFT</td>\n",
       "      <td>2016</td>\n",
       "    </tr>\n",
       "    <tr>\n",
       "      <th>11</th>\n",
       "      <td>17</td>\n",
       "      <td>12</td>\n",
       "      <td>BURGLARY:UNSPECIFIED</td>\n",
       "      <td>2016</td>\n",
       "    </tr>\n",
       "    <tr>\n",
       "      <th>12</th>\n",
       "      <td>21</td>\n",
       "      <td>9</td>\n",
       "      <td>INDECENT EXPOSURE</td>\n",
       "      <td>2016</td>\n",
       "    </tr>\n",
       "    <tr>\n",
       "      <th>13</th>\n",
       "      <td>4</td>\n",
       "      <td>12</td>\n",
       "      <td>TAKE VEHICLE W/O OWNER'S CONSENT/VEHICLE THEFT...</td>\n",
       "      <td>2016</td>\n",
       "    </tr>\n",
       "    <tr>\n",
       "      <th>14</th>\n",
       "      <td>4</td>\n",
       "      <td>12</td>\n",
       "      <td>USE/UNDER INFL OF CONTROLLED SUBS (M)</td>\n",
       "      <td>2016</td>\n",
       "    </tr>\n",
       "    <tr>\n",
       "      <th>15</th>\n",
       "      <td>4</td>\n",
       "      <td>12</td>\n",
       "      <td>POSS CONTROLLED SUBS PARAPHERNALIA (M)</td>\n",
       "      <td>2016</td>\n",
       "    </tr>\n",
       "    <tr>\n",
       "      <th>16</th>\n",
       "      <td>4</td>\n",
       "      <td>12</td>\n",
       "      <td>SIMPLE BATTERY (M)</td>\n",
       "      <td>2016</td>\n",
       "    </tr>\n",
       "    <tr>\n",
       "      <th>17</th>\n",
       "      <td>17</td>\n",
       "      <td>11</td>\n",
       "      <td>VANDALISM ($400 OR MORE)</td>\n",
       "      <td>2016</td>\n",
       "    </tr>\n",
       "    <tr>\n",
       "      <th>18</th>\n",
       "      <td>22</td>\n",
       "      <td>11</td>\n",
       "      <td>PETTY THEFT</td>\n",
       "      <td>2016</td>\n",
       "    </tr>\n",
       "    <tr>\n",
       "      <th>19</th>\n",
       "      <td>16</td>\n",
       "      <td>11</td>\n",
       "      <td>BATTERY WITH SERIOUS BODILY INJURY (F)</td>\n",
       "      <td>2016</td>\n",
       "    </tr>\n",
       "  </tbody>\n",
       "</table>\n",
       "</div>"
      ],
      "text/plain": [
       "   day month                                            offense  year\n",
       "0   14    10                              BURGLARY/FIRST DEGREE  2016\n",
       "1   11    11                                        PETTY THEFT  2016\n",
       "2   20    11                             BURGLARY/SECOND DEGREE  2016\n",
       "3   20    11                                        PETTY THEFT  2016\n",
       "4    2    11                              BURGLARY/FIRST DEGREE  2016\n",
       "5   10    11                             BURGLARY/SECOND DEGREE  2016\n",
       "6    9    10     TAKE VEHICLE W/O OWNER'S CONSENT/VEHICLE THEFT  2016\n",
       "7   16    10     TAKE VEHICLE W/O OWNER'S CONSENT/VEHICLE THEFT  2016\n",
       "8   19    10                ATTEMPTED MURDER/DEGREE UNSPECIFIED  2016\n",
       "9   31    10                             ROBBERY: SECOND DEGREE  2016\n",
       "10  16    10     TAKE VEHICLE W/O OWNER'S CONSENT/VEHICLE THEFT  2016\n",
       "11  17    12                               BURGLARY:UNSPECIFIED  2016\n",
       "12  21     9                                  INDECENT EXPOSURE  2016\n",
       "13   4    12  TAKE VEHICLE W/O OWNER'S CONSENT/VEHICLE THEFT...  2016\n",
       "14   4    12              USE/UNDER INFL OF CONTROLLED SUBS (M)  2016\n",
       "15   4    12             POSS CONTROLLED SUBS PARAPHERNALIA (M)  2016\n",
       "16   4    12                                 SIMPLE BATTERY (M)  2016\n",
       "17  17    11                           VANDALISM ($400 OR MORE)  2016\n",
       "18  22    11                                        PETTY THEFT  2016\n",
       "19  16    11             BATTERY WITH SERIOUS BODILY INJURY (F)  2016"
      ]
     },
     "execution_count": 17,
     "metadata": {},
     "output_type": "execute_result"
    }
   ],
   "source": [
    "# Format data to count the number of events that occured each day\n",
    "df_records_2016.head(20)\n",
    "# Filter by each year-month-day combination"
   ]
  },
  {
   "cell_type": "code",
   "execution_count": null,
   "metadata": {
    "collapsed": true
   },
   "outputs": [],
   "source": []
  }
 ],
 "metadata": {
  "anaconda-cloud": {},
  "kernelspec": {
   "display_name": "Python 3",
   "language": "python",
   "name": "python3"
  },
  "language_info": {
   "codemirror_mode": {
    "name": "ipython",
    "version": 3
   },
   "file_extension": ".py",
   "mimetype": "text/x-python",
   "name": "python",
   "nbconvert_exporter": "python",
   "pygments_lexer": "ipython3",
   "version": "3.6.0"
  }
 },
 "nbformat": 4,
 "nbformat_minor": 1
}
